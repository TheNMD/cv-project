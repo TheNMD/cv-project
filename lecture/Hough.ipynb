{
 "cells": [
  {
   "cell_type": "code",
   "execution_count": 10,
   "metadata": {},
   "outputs": [],
   "source": [
    "import numpy as np\n",
    "import cv2 as cv\n",
    "import matplotlib.pyplot as plt"
   ]
  },
  {
   "cell_type": "code",
   "execution_count": 31,
   "metadata": {},
   "outputs": [
    {
     "data": {
      "text/plain": [
       "True"
      ]
     },
     "execution_count": 31,
     "metadata": {},
     "output_type": "execute_result"
    }
   ],
   "source": [
    "# Hough line\n",
    "img = cv.imread('./images/Flag.jpg')\n",
    "gray = cv.cvtColor(img, cv.COLOR_BGR2GRAY)\n",
    "edges = cv.Canny(gray, 50, 200)\n",
    "\n",
    "img_Hough = img.copy()\n",
    "\n",
    "lines = cv.HoughLines(edges, 1, np.pi / 180, 150, None, 0, 0)\n",
    "\n",
    "if lines is not None:\n",
    "    for i in range(0, len(lines)):\n",
    "        rho = lines[i][0][0]\n",
    "        theta = lines[i][0][1]\n",
    "        a = np.cos(theta)\n",
    "        b = np.sin(theta)\n",
    "        x0 = a * rho\n",
    "        y0 = b * rho\n",
    "        pt1 = (int(x0 + 100 * (-b)), int(y0 + 100 * (a)))\n",
    "        pt2 = (int(x0 - 100 * (-b)), int(y0 - 100 * (a)))\n",
    "        cv.line(img_Hough, pt1, pt2, (255, 0, 0), 3)\n",
    "\n",
    "cv.imwrite(\"HoughLine.jpg\", img_Hough)"
   ]
  }
 ],
 "metadata": {
  "kernelspec": {
   "display_name": "Python 3.10.6 ('venv': venv)",
   "language": "python",
   "name": "python3"
  },
  "language_info": {
   "codemirror_mode": {
    "name": "ipython",
    "version": 3
   },
   "file_extension": ".py",
   "mimetype": "text/x-python",
   "name": "python",
   "nbconvert_exporter": "python",
   "pygments_lexer": "ipython3",
   "version": "3.10.6"
  },
  "orig_nbformat": 4,
  "vscode": {
   "interpreter": {
    "hash": "6d008cb7eae92511a7f71db42bd4b3596d448175306f00423709a4f1dc519fdb"
   }
  }
 },
 "nbformat": 4,
 "nbformat_minor": 2
}
