{
 "cells": [
  {
   "cell_type": "code",
   "execution_count": 1,
   "metadata": {},
   "outputs": [],
   "source": [
    "import numpy as np\n",
    "import cv2 as cv"
   ]
  },
  {
   "cell_type": "code",
   "execution_count": 2,
   "metadata": {},
   "outputs": [],
   "source": [
    "img = cv.imread('./images/VanGogh.jpg')\n",
    "img = cv.cvtColor(img, cv.COLOR_BGR2GRAY)\n",
    "height, width = img.shape"
   ]
  },
  {
   "cell_type": "code",
   "execution_count": 3,
   "metadata": {},
   "outputs": [
    {
     "data": {
      "text/plain": [
       "True"
      ]
     },
     "execution_count": 3,
     "metadata": {},
     "output_type": "execute_result"
    }
   ],
   "source": [
    "# Scale\n",
    "sx, sy = 5, 1\n",
    "scale_matrix = np.array([[sx, 0, 0],\n",
    "             \t        [0, sy, 0],\n",
    "            \t        [0, 0, 1]], dtype=np.float64)\n",
    "\n",
    "# Reflect about x-axis | add height and width to translate to new image\n",
    "sx, sy = 1, -1\n",
    "scale_matrix_x = np.array([[sx, 0, height],\n",
    "             \t        [0, sy, width],\n",
    "            \t        [0, 0, 1]], dtype=np.float64)\n",
    "\n",
    "# Reflect about y-axis | add height and width to translate to new image\n",
    "sx, sy = -1, 1\n",
    "scale_matrix_y = np.array([[sx, 0, height],\n",
    "             \t        [0, sy, width],\n",
    "            \t        [0, 0, 1]], dtype=np.float64)\n",
    "\n",
    "scale_img = cv.warpPerspective(img, scale_matrix, (width * 5, height * 5))\n",
    "scale_img_x = cv.warpPerspective(img, scale_matrix_x, (width * 3, height * 3))\n",
    "scale_img_y = cv.warpPerspective(img, scale_matrix_y, (width * 3, height * 3))\n",
    "\n",
    "\n",
    "cv.imwrite('VanGogh_Scale.jpg', scale_img)\n",
    "cv.imwrite('VanGogh_ReflectAboutX-Axis.jpg', scale_img_x)\n",
    "cv.imwrite('VanGogh_ReflectAboutX-Axis.jpg', scale_img_y)"
   ]
  },
  {
   "cell_type": "code",
   "execution_count": 4,
   "metadata": {},
   "outputs": [
    {
     "data": {
      "text/plain": [
       "True"
      ]
     },
     "execution_count": 4,
     "metadata": {},
     "output_type": "execute_result"
    }
   ],
   "source": [
    "# Rotate around center\n",
    "theta = np.radians(-180)\n",
    "rot_matrix = np.array([[np.cos(theta), -np.sin(theta), 0],\n",
    "             \t        [np.sin(theta), np.cos(theta), 0],\n",
    "            \t        [0, 0, 1]], dtype=np.float64)\n",
    "\n",
    "tx1, ty1 = width // 2, height // 2\n",
    "translate_matrix1 =  np.array([[1, 0, tx1],\n",
    "                              [0, 1, ty1],\n",
    "                              [0, 0, 1]], dtype=np.float64)\n",
    "\n",
    "tx2, ty2 = -width // 2, -height // 2\n",
    "translate_matrix2 =  np.array([[1, 0, tx2],\n",
    "                              [0, 1, ty2],\n",
    "                              [0, 0, 1]], dtype=np.float64)\n",
    "\n",
    "# @ translate_matrix3 to get to the center of new image\n",
    "tx3, ty3 = -width // 2, -height // 2\n",
    "translate_matrix3 =  np.array([[1, 0, tx3],\n",
    "                              [0, 1, ty3],\n",
    "                              [0, 0, 1]], dtype=np.float64)\n",
    "\n",
    "\n",
    "rot_img = cv.warpPerspective(img, translate_matrix1 @ rot_matrix @ translate_matrix2 @ translate_matrix3, (width * 2, height * 2))\n",
    "\n",
    "cv.imwrite('VanGogh_Rotate.jpg', rot_img)"
   ]
  },
  {
   "cell_type": "code",
   "execution_count": 5,
   "metadata": {},
   "outputs": [
    {
     "data": {
      "text/plain": [
       "True"
      ]
     },
     "execution_count": 5,
     "metadata": {},
     "output_type": "execute_result"
    }
   ],
   "source": [
    "# Shear\n",
    "shx, shy = 0.5, 0\n",
    "shear_matrix = np.array([[1, shx, 0],\n",
    "             \t        [shy, 1, 0],\n",
    "            \t        [0, 0, 1]], dtype=np.float64)\n",
    "\n",
    "shear_img = cv.warpPerspective(img, shear_matrix, (width * 2, height * 2))\n",
    "\n",
    "cv.imwrite('VanGogh_Shear.jpg', shear_img)"
   ]
  },
  {
   "cell_type": "code",
   "execution_count": 6,
   "metadata": {},
   "outputs": [
    {
     "data": {
      "text/plain": [
       "True"
      ]
     },
     "execution_count": 6,
     "metadata": {},
     "output_type": "execute_result"
    }
   ],
   "source": [
    "# Translate\n",
    "tx, ty = (700, 700)\n",
    "translate_matrix =  np.array([[1, 0, tx],\n",
    "                              [0, 1, ty],\n",
    "                              [0, 0, 1]], dtype=np.float64)\n",
    "\n",
    "translate_img = cv.warpPerspective(img, translate_matrix, (width * 2, height * 2))\n",
    "\n",
    "cv.imwrite('VanGogh_Translate.jpg', translate_img)"
   ]
  }
 ],
 "metadata": {
  "kernelspec": {
   "display_name": "Python 3.10.6 ('venv': venv)",
   "language": "python",
   "name": "python3"
  },
  "language_info": {
   "codemirror_mode": {
    "name": "ipython",
    "version": 3
   },
   "file_extension": ".py",
   "mimetype": "text/x-python",
   "name": "python",
   "nbconvert_exporter": "python",
   "pygments_lexer": "ipython3",
   "version": "3.10.6"
  },
  "orig_nbformat": 4,
  "vscode": {
   "interpreter": {
    "hash": "6d008cb7eae92511a7f71db42bd4b3596d448175306f00423709a4f1dc519fdb"
   }
  }
 },
 "nbformat": 4,
 "nbformat_minor": 2
}
