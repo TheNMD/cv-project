{
 "cells": [
  {
   "cell_type": "code",
   "execution_count": 42,
   "metadata": {},
   "outputs": [],
   "source": [
    "import numpy as np\n",
    "import cv2 as cv"
   ]
  },
  {
   "cell_type": "code",
   "execution_count": 43,
   "metadata": {},
   "outputs": [],
   "source": [
    "img = cv.imread('./images/Coin.jpg')\n",
    "img = cv.cvtColor(img, cv.COLOR_BGR2GRAY)\n",
    "_, img = cv.threshold(img, 127, 255, cv.THRESH_BINARY)"
   ]
  },
  {
   "cell_type": "code",
   "execution_count": 35,
   "metadata": {},
   "outputs": [
    {
     "data": {
      "text/plain": [
       "True"
      ]
     },
     "execution_count": 35,
     "metadata": {},
     "output_type": "execute_result"
    }
   ],
   "source": [
    "# Erosion and Dilation\n",
    "se = np.array([[0, 0, 1],\n",
    "               [0, 0, 1],\n",
    "               [0, 0, 0]], dtype=np.uint8)\n",
    "  \n",
    "img_erosion = cv.erode(img, se, iterations=1)\n",
    "img_dilation = cv.dilate(img, se, iterations=1)\n",
    "\n",
    "cv.imwrite('Coin_Erosion.jpg', img_erosion)\n",
    "cv.imwrite('Coin_Dilation.jpg', img_dilation)"
   ]
  },
  {
   "cell_type": "code",
   "execution_count": 36,
   "metadata": {},
   "outputs": [
    {
     "data": {
      "text/plain": [
       "True"
      ]
     },
     "execution_count": 36,
     "metadata": {},
     "output_type": "execute_result"
    }
   ],
   "source": [
    "# Opening and Closing\n",
    "se = np.array([[0, 1, 0],\n",
    "               [1, 0, 1],\n",
    "               [0, 1, 0]], dtype=np.uint8)\n",
    "\n",
    "img_opening = cv.erode(img, se, iterations=1)\n",
    "img_opening = cv.dilate(img_opening, se, iterations=1)\n",
    "\n",
    "img_closing = cv.dilate(img, se, iterations=1)\n",
    "img_closing = cv.erode(img_closing, se, iterations=1)\n",
    "\n",
    "cv.imwrite('Coin_Opening.jpg', img_opening)\n",
    "cv.imwrite('Coin_Closing.jpg', img_closing)"
   ]
  },
  {
   "cell_type": "code",
   "execution_count": 61,
   "metadata": {},
   "outputs": [
    {
     "data": {
      "text/plain": [
       "True"
      ]
     },
     "execution_count": 61,
     "metadata": {},
     "output_type": "execute_result"
    }
   ],
   "source": [
    "# Hit-or-miss Transformation\n",
    "def hom(img, se, background):\n",
    "    se1 = se.copy()\n",
    "    se2 = se.copy()\n",
    "    \n",
    "    for i in range(len(se1)):\n",
    "        for j in range(len(se1[i])):\n",
    "            if se1[i][j] != 1:\n",
    "                se1[i][j] = 0\n",
    "                \n",
    "    for i in range(len(se2)):\n",
    "        for j in range(len(se2[i])):\n",
    "            if se2[i][j] != 255:\n",
    "                se2[i][j] = 0\n",
    "            elif se2[i][j] == 255:\n",
    "                se2[i][j] = 1   \n",
    "                \n",
    "    if background:\n",
    "        left = cv.erode(img, se2, iterations=1)\n",
    "        right = cv.erode(cv.bitwise_not(img), se1, iterations=1)\n",
    "    else:\n",
    "        left = cv.erode(img, se1, iterations=1)\n",
    "        right = cv.erode(cv.bitwise_not(img), se2, iterations=1)\n",
    "\n",
    "    return cv.bitwise_and(left, right)\n",
    "    \n",
    "se = np.array([[0, 1, 0],\n",
    "               [1, -1, 1],\n",
    "               [0, 1, 0]], dtype=np.uint8)\n",
    "\n",
    "img_hom = hom(img, se, False)\n",
    "\n",
    "cv.imwrite('Coin_HitOrMiss.jpg', img_hom)"
   ]
  },
  {
   "cell_type": "code",
   "execution_count": 46,
   "metadata": {},
   "outputs": [
    {
     "data": {
      "text/plain": [
       "True"
      ]
     },
     "execution_count": 46,
     "metadata": {},
     "output_type": "execute_result"
    }
   ],
   "source": [
    "# Boundary Extraction\n",
    "se = np.array([[0, 1, 0],\n",
    "               [1, 0, 1],\n",
    "               [0, 1, 0]], dtype=np.uint8)\n",
    "\n",
    "img_be = cv.erode(img, se, iterations=1)\n",
    "img_be = img - img_be\n",
    "\n",
    "cv.imwrite('Coin_BoundaryExtraction.jpg', img_be)"
   ]
  },
  {
   "cell_type": "code",
   "execution_count": 77,
   "metadata": {},
   "outputs": [
    {
     "data": {
      "text/plain": [
       "True"
      ]
     },
     "execution_count": 77,
     "metadata": {},
     "output_type": "execute_result"
    }
   ],
   "source": [
    "# Thinning & Thickening\n",
    "se1 = np.array([[1, 1, 1],\n",
    "                [0, 1, 0],\n",
    "                [-1, -1, -1]], dtype=np.uint8)\n",
    "\n",
    "se2 = np.array([[0, 1, 1],\n",
    "                [-1, 1, 1],\n",
    "                [-1, -1, 0]], dtype=np.uint8)\n",
    "\n",
    "se3 = np.array([[-1, 0, 1],\n",
    "                [-1, 1, 1],\n",
    "                [-1, 0, 1]], dtype=np.uint8)\n",
    "\n",
    "se4 = np.array([[-1, -1, 0],\n",
    "                [-1, 1, 1],\n",
    "                [0, 1, 1]], dtype=np.uint8)\n",
    "\n",
    "se5 = np.array([[-1, -1, -1],\n",
    "                [0, 1, 0],\n",
    "                [1, 1, 1]], dtype=np.uint8)\n",
    "\n",
    "se6 = np.array([[0, -1, -1],\n",
    "                [1, 1, -1],\n",
    "                [1, 1, 0]], dtype=np.uint8)\n",
    "\n",
    "se7 = np.array([[1, 0, -1],\n",
    "                [1, 1, -1],\n",
    "                [1, 0, -1]], dtype=np.uint8)\n",
    "\n",
    "se8 = np.array([[1, 1, 0],\n",
    "                [1, 1, -1],\n",
    "                [0, -1, -1]], dtype=np.uint8)\n",
    "\n",
    "seList = [se1, se2, se3, se4, se5, se6, se7, se8]\n",
    "\n",
    "img_thinning = img.copy()\n",
    "img_thickening = img.copy()\n",
    "for se in seList:\n",
    "    img_thinning = cv.bitwise_and(img_thinning, cv.bitwise_not(hom(img_thinning, se, False))).copy()\n",
    "    img_thickening = cv.bitwise_or(img_thickening, hom(img_thickening, se, True)).copy()\n",
    "\n",
    "cv.imwrite('Coin_Thinning.jpg', img_thinning)\n",
    "cv.imwrite('Coin_Thickening.jpg', img_thickening)"
   ]
  }
 ],
 "metadata": {
  "kernelspec": {
   "display_name": "Python 3.10.6 ('venv': venv)",
   "language": "python",
   "name": "python3"
  },
  "language_info": {
   "codemirror_mode": {
    "name": "ipython",
    "version": 3
   },
   "file_extension": ".py",
   "mimetype": "text/x-python",
   "name": "python",
   "nbconvert_exporter": "python",
   "pygments_lexer": "ipython3",
   "version": "3.10.6"
  },
  "orig_nbformat": 4,
  "vscode": {
   "interpreter": {
    "hash": "6d008cb7eae92511a7f71db42bd4b3596d448175306f00423709a4f1dc519fdb"
   }
  }
 },
 "nbformat": 4,
 "nbformat_minor": 2
}
